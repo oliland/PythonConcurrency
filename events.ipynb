{
 "cells": [
  {
   "cell_type": "markdown",
   "metadata": {},
   "source": [
    "# Concurrency & Parallelism in Python"
   ]
  },
  {
   "cell_type": "markdown",
   "metadata": {},
   "source": [
    "*Write a Python program which can make two HTTP requests in parallel. You can use any library or framework of your choosing, and you can call whatever API’s you like. The only rule is that the HTTP requests have to be made in parallel.*\n",
    "\n",
    "*Consider the two requests below: A correct program will have received both responses in 5 seconds instead of 8 seconds:*\n",
    "\n",
    "- http://httpbin.org/delay/5\n",
    "- http://httpbin.org/delay/3"
   ]
  },
  {
   "cell_type": "markdown",
   "metadata": {},
   "source": [
    "## Oli's Solution\n",
    "\n",
    "This notebook is adapted from a talk:\n",
    "\n",
    "> Python Concurrency From the Ground Up\n",
    "> \n",
    "> David Beazley, PyCon 2015.\n",
    "> https://www.youtube.com/watch?v=MCs5OvhV9S4&t=1089s\n",
    "\n",
    "My solution uses the `socket` library for making an HTTP request over a TCP socket.\n",
    "\n",
    "It uses a generator to create an event loop that can make the requests concurrently.\n",
    "\n",
    "This approach is purely didactic - it demonstrates that we can build our own event loop in Python without any fancy libraries or threading by using generators. Additionally, it allows us to write our own custom HTTP client.\n",
    "\n",
    "The drawback is that this is definitely not production code - there is no error handling, there is no HTTPS support, and there are no tests!"
   ]
  },
  {
   "cell_type": "markdown",
   "metadata": {},
   "source": [
    "### Import Statements"
   ]
  },
  {
   "cell_type": "code",
   "execution_count": 1,
   "metadata": {},
   "outputs": [],
   "source": [
    "from collections import deque\n",
    "\n",
    "import errno\n",
    "import select\n",
    "import socket\n",
    "import time\n",
    "import urllib"
   ]
  },
  {
   "cell_type": "markdown",
   "metadata": {},
   "source": [
    "### HTTP Client\n",
    "\n",
    "Our HTTP client is a simple function that reads and writes plain text to a TCP socket. As it is just using `socket`, which is part of the standard library, we are not using `requests` or `aiohttp`.\n",
    "\n",
    "This function is a generator. Instead of returning a value, it can `yield` control to its calling function at specific points.\n",
    "\n",
    "We can use these yield commands to suspend and resume our function at specific times. We can use this to create an event-driven program in Python which can suspend and resume tasks."
   ]
  },
  {
   "cell_type": "code",
   "execution_count": 2,
   "metadata": {},
   "outputs": [],
   "source": [
    "def http_get(url):\n",
    "    parsed = urllib.parse.urlparse(url)\n",
    "    \n",
    "    target_host = parsed.netloc\n",
    "    target_path = parsed.path\n",
    "\n",
    "    # HTTP is always port 80. HTTPS is not supported, as that requires encryption\n",
    "    target_port = 80\n",
    "    \n",
    "    # Create a socket - this is a buffer that we are allowing our server to write to.\n",
    "    sock = socket.socket(socket.AF_INET, socket.SOCK_STREAM)\n",
    "\n",
    "    # Set socket to non-blocking mode.\n",
    "    # Instead of blocking, we will need to test when our socket is ready to send or receive data.\n",
    "    # Our event loop will use the `select` call to do this for us.\n",
    "    sock.setblocking(0)\n",
    "\n",
    "    # Connect to HTTPBin via TCP on port 80. As our socket is non-blocking, this call will not block.\n",
    "    # In non-blocking mode, this function raises an exception to signal that the connect operation is in progress.\n",
    "    err = sock.connect_ex((target_host, target_port))\n",
    "    if err != errno.EINPROGRESS:\n",
    "        raise RuntimeError(f\"Error in connect: {err}\")\n",
    "\n",
    "    # Ask the event loop to wait for our socket to be ready to send data.\n",
    "    yield 'send', sock\n",
    "\n",
    "    # We are ready to send some data.\n",
    "    # Two blank lines indicates the end of the response.\n",
    "    # Without them, the server will wait for our request to finish.\n",
    "    request = [\n",
    "        f\"GET {target_path} HTTP/1.1\",\n",
    "        f\"Host: {target_host}\",\n",
    "        \"\",\n",
    "        \"\",\n",
    "    ]\n",
    "    request = \"\\n\".join(request)\n",
    "    \n",
    "    # Send our request as bytes. As our socket is non-blocking, this line does not block.\n",
    "    sock.send(request.encode('utf-8'))\n",
    "\n",
    "    # Ask the event loop to wait for our socket to be ready to receive data.\n",
    "    yield 'recv', sock\n",
    "\n",
    "    # We are now unblocked. Receive some data - 4096 bytes is enough.\n",
    "    response = sock.recv(4096)\n",
    "\n",
    "    # As we are in a generator, we can yield the results of our processing.\n",
    "    # I have chosen to yield the request and the response as plain text, but you can return any data here.\n",
    "    response = response.decode('utf-8')\n",
    "    yield 'data', (request, response)\n"
   ]
  },
  {
   "cell_type": "markdown",
   "metadata": {},
   "source": [
    "### Event Loop\n",
    "\n",
    "Our event loop takes a list of generators and runs them until they are complete. Our generators must be written to be compatible with the event loop. In this case, our generators must `yield` tuples of events in the form of `(why, what)`.\n",
    "\n",
    "We run each generator in turn until it `yield`s a socket, or some data. We keep any sockets in a holding area until we have no more tasks ready to run. We then call the `select` function, which is blocking. This is provided by your operating system, and you can read it's documentation with `man select`:\n",
    "\n",
    "```\n",
    "select() and pselect() allow a program to monitor multiple file descriptors, waiting until one or more of the file descriptors become \"ready\" for some class of I/O operation (e.g., input possible). A file descriptor is considered ready if it is possible to perform the corresponding I/O operation (e.g., read(2)) without blocking.\n",
    "```\n",
    "\n",
    "By waiting on multiple file descriptors simultaneously, we can achieve concurrency. By using generators, we can ensure that we have \"gathered\" all of the tasks that have work to do before performing a blocking operation.\n",
    "\n",
    "There many are alternative implementations that use more sophisticated methods than `select`."
   ]
  },
  {
   "cell_type": "code",
   "execution_count": 3,
   "metadata": {},
   "outputs": [],
   "source": [
    "def run_tasks(tasks):\n",
    "    output = []\n",
    "    tasks = deque(tasks)\n",
    "    send_wait = {}\n",
    "    recv_wait = {}\n",
    "    \n",
    "    # This program is our event loop.\n",
    "    # It loops until all events - in this case, tasks and sockets, have completed.\n",
    "    while any([tasks, send_wait, recv_wait]):\n",
    "        while not tasks:\n",
    "            # While there is no python code to run, make a blocking call to `select`.\n",
    "            # This function returns when any of our sockets are ready to send or receive.\n",
    "            # When they have changed state, we retrieve the task generator using the socket as a key,\n",
    "            # and put it back onto the task list for processing.\n",
    "            can_recv, can_send, [] = select.select(recv_wait, send_wait, [])\n",
    "            for s in can_recv:\n",
    "                tasks.append(recv_wait.pop(s))\n",
    "            for s in can_send:\n",
    "                tasks.append(send_wait.pop(s))\n",
    "        \n",
    "        # Retrieve a generator from the queue.\n",
    "        task = tasks.popleft()\n",
    "        try:\n",
    "            # next() advances the code until the next yield statement.\n",
    "            # Each yield returns a tuple describing why and what we have yielded.\n",
    "            why, what = next(task)\n",
    "        except StopIteration:\n",
    "            # We've reached the end of our generator function.\n",
    "            # Continue our event loop.\n",
    "            continue\n",
    "            \n",
    "        # We need to wait to be ready to receive data.\n",
    "        # Put our socket (what) in the recv_wait dict.\n",
    "        if why == 'recv':\n",
    "            recv_wait[what] = task\n",
    "\n",
    "        # We need to wait to be ready to send data.\n",
    "        # Put our socket (what) in the send_wait dict.\n",
    "        elif why == 'send':\n",
    "            send_wait[what] = task\n",
    "\n",
    "        # We finally have some data! Add the results to a list.\n",
    "        elif why == 'data':\n",
    "            output.append(what)\n",
    "\n",
    "    return output"
   ]
  },
  {
   "cell_type": "markdown",
   "metadata": {},
   "source": [
    "### Testing\n",
    "\n",
    "The code below should run in under 8 seconds - less than the time that it would take to perform the two requests sequentially."
   ]
  },
  {
   "cell_type": "code",
   "execution_count": 4,
   "metadata": {},
   "outputs": [
    {
     "name": "stdout",
     "output_type": "stream",
     "text": [
      "Took 5.16 seconds to receive 2 responses\n"
     ]
    }
   ],
   "source": [
    "urls = [\n",
    "    \"http://httpbin.org/delay/5\",\n",
    "    \"http://httpbin.org/delay/3\",\n",
    "]\n",
    "\n",
    "start_time = time.time()\n",
    "responses = run_tasks([http_get(url) for url in urls])\n",
    "end_time = time.time()\n",
    "\n",
    "duration_seconds = end_time - start_time\n",
    "\n",
    "print(f\"Took {duration_seconds:.2f} seconds to receive {len(urls)} responses\")"
   ]
  },
  {
   "cell_type": "markdown",
   "metadata": {},
   "source": [
    "### Printing the request & response\n",
    "\n",
    "A benefit of writing our own HTTP client is that we can expose the text-based nature of HTTP. Here we can see exactly the data that we read and wrote to our underlying TCP socket, and how the server responded.\n",
    "\n",
    "We can see that the requests and responses begin with the header information in plain text, followed by two blank lines, followed by the response body.\n",
    "\n",
    "Your web browser probably uses HTTP/2 instead of HTTP, where possible. This is a more sophisticated binary protocol which is more efficient for sending and receiving data.\n",
    "\n",
    "What would you do to make the HTTP protocol more efficient?"
   ]
  },
  {
   "cell_type": "code",
   "execution_count": 5,
   "metadata": {},
   "outputs": [
    {
     "name": "stdout",
     "output_type": "stream",
     "text": [
      "GET /delay/3 HTTP/1.1\n",
      "Host: httpbin.org\n",
      "\n",
      "\n",
      "HTTP/1.1 200 OK\n",
      "Date: Fri, 12 Feb 2021 16:37:06 GMT\n",
      "Content-Type: application/json\n",
      "Content-Length: 249\n",
      "Connection: keep-alive\n",
      "Server: gunicorn/19.9.0\n",
      "Access-Control-Allow-Origin: *\n",
      "Access-Control-Allow-Credentials: true\n",
      "\n",
      "{\n",
      "  \"args\": {}, \n",
      "  \"data\": \"\", \n",
      "  \"files\": {}, \n",
      "  \"form\": {}, \n",
      "  \"headers\": {\n",
      "    \"Host\": \"httpbin.org\", \n",
      "    \"X-Amzn-Trace-Id\": \"Root=1-6026aeaf-08c03be06a7a6be529f79d12\"\n",
      "  }, \n",
      "  \"origin\": \"86.153.157.254\", \n",
      "  \"url\": \"http://httpbin.org/delay/3\"\n",
      "}\n",
      "\n",
      "GET /delay/5 HTTP/1.1\n",
      "Host: httpbin.org\n",
      "\n",
      "\n",
      "HTTP/1.1 200 OK\n",
      "Date: Fri, 12 Feb 2021 16:37:08 GMT\n",
      "Content-Type: application/json\n",
      "Content-Length: 249\n",
      "Connection: keep-alive\n",
      "Server: gunicorn/19.9.0\n",
      "Access-Control-Allow-Origin: *\n",
      "Access-Control-Allow-Credentials: true\n",
      "\n",
      "{\n",
      "  \"args\": {}, \n",
      "  \"data\": \"\", \n",
      "  \"files\": {}, \n",
      "  \"form\": {}, \n",
      "  \"headers\": {\n",
      "    \"Host\": \"httpbin.org\", \n",
      "    \"X-Amzn-Trace-Id\": \"Root=1-6026aeaf-65da73b013a7ab8679e7f744\"\n",
      "  }, \n",
      "  \"origin\": \"86.153.157.254\", \n",
      "  \"url\": \"http://httpbin.org/delay/5\"\n",
      "}\n",
      "\n"
     ]
    }
   ],
   "source": [
    "for request, response in responses:\n",
    "    print(request)\n",
    "    print(response)"
   ]
  },
  {
   "cell_type": "code",
   "execution_count": null,
   "metadata": {},
   "outputs": [],
   "source": []
  }
 ],
 "metadata": {
  "kernelspec": {
   "display_name": "Python 3",
   "language": "python",
   "name": "python3"
  },
  "language_info": {
   "codemirror_mode": {
    "name": "ipython",
    "version": 3
   },
   "file_extension": ".py",
   "mimetype": "text/x-python",
   "name": "python",
   "nbconvert_exporter": "python",
   "pygments_lexer": "ipython3",
   "version": "3.8.3"
  }
 },
 "nbformat": 4,
 "nbformat_minor": 4
}
